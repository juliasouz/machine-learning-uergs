{
  "cells": [
    {
      "cell_type": "code",
      "execution_count": 114,
      "metadata": {
        "id": "GaebHiM-rV_I"
      },
      "outputs": [],
      "source": [
        "import numpy as np\n",
        "import matplotlib.pyplot as plt\n",
        "import pandas as pd\n",
        "from sklearn.model_selection import train_test_split\n",
        "from sklearn.datasets import load_breast_cancer\n",
        "\n",
        "from sklearn.linear_model import LogisticRegression\n",
        "from sklearn.model_selection import cross_val_score\n",
        "from sklearn.metrics import confusion_matrix"
      ]
    },
    {
      "cell_type": "code",
      "execution_count": 115,
      "metadata": {
        "colab": {
          "base_uri": "https://localhost:8080/",
          "height": 290
        },
        "id": "JSpvkw3IrqZb",
        "outputId": "c581df25-5a05-49e6-ec3f-b2231232ba52"
      },
      "outputs": [
        {
          "data": {
            "text/html": [
              "<div>\n",
              "<style scoped>\n",
              "    .dataframe tbody tr th:only-of-type {\n",
              "        vertical-align: middle;\n",
              "    }\n",
              "\n",
              "    .dataframe tbody tr th {\n",
              "        vertical-align: top;\n",
              "    }\n",
              "\n",
              "    .dataframe thead th {\n",
              "        text-align: right;\n",
              "    }\n",
              "</style>\n",
              "<table border=\"1\" class=\"dataframe\">\n",
              "  <thead>\n",
              "    <tr style=\"text-align: right;\">\n",
              "      <th></th>\n",
              "      <th>mean radius</th>\n",
              "      <th>mean texture</th>\n",
              "      <th>mean perimeter</th>\n",
              "      <th>mean area</th>\n",
              "      <th>mean smoothness</th>\n",
              "      <th>mean compactness</th>\n",
              "      <th>mean concavity</th>\n",
              "      <th>mean concave points</th>\n",
              "      <th>mean symmetry</th>\n",
              "      <th>mean fractal dimension</th>\n",
              "      <th>...</th>\n",
              "      <th>worst radius</th>\n",
              "      <th>worst texture</th>\n",
              "      <th>worst perimeter</th>\n",
              "      <th>worst area</th>\n",
              "      <th>worst smoothness</th>\n",
              "      <th>worst compactness</th>\n",
              "      <th>worst concavity</th>\n",
              "      <th>worst concave points</th>\n",
              "      <th>worst symmetry</th>\n",
              "      <th>worst fractal dimension</th>\n",
              "    </tr>\n",
              "  </thead>\n",
              "  <tbody>\n",
              "    <tr>\n",
              "      <th>0</th>\n",
              "      <td>17.99</td>\n",
              "      <td>10.38</td>\n",
              "      <td>122.80</td>\n",
              "      <td>1001.0</td>\n",
              "      <td>0.11840</td>\n",
              "      <td>0.27760</td>\n",
              "      <td>0.3001</td>\n",
              "      <td>0.14710</td>\n",
              "      <td>0.2419</td>\n",
              "      <td>0.07871</td>\n",
              "      <td>...</td>\n",
              "      <td>25.38</td>\n",
              "      <td>17.33</td>\n",
              "      <td>184.60</td>\n",
              "      <td>2019.0</td>\n",
              "      <td>0.1622</td>\n",
              "      <td>0.6656</td>\n",
              "      <td>0.7119</td>\n",
              "      <td>0.2654</td>\n",
              "      <td>0.4601</td>\n",
              "      <td>0.11890</td>\n",
              "    </tr>\n",
              "    <tr>\n",
              "      <th>1</th>\n",
              "      <td>20.57</td>\n",
              "      <td>17.77</td>\n",
              "      <td>132.90</td>\n",
              "      <td>1326.0</td>\n",
              "      <td>0.08474</td>\n",
              "      <td>0.07864</td>\n",
              "      <td>0.0869</td>\n",
              "      <td>0.07017</td>\n",
              "      <td>0.1812</td>\n",
              "      <td>0.05667</td>\n",
              "      <td>...</td>\n",
              "      <td>24.99</td>\n",
              "      <td>23.41</td>\n",
              "      <td>158.80</td>\n",
              "      <td>1956.0</td>\n",
              "      <td>0.1238</td>\n",
              "      <td>0.1866</td>\n",
              "      <td>0.2416</td>\n",
              "      <td>0.1860</td>\n",
              "      <td>0.2750</td>\n",
              "      <td>0.08902</td>\n",
              "    </tr>\n",
              "    <tr>\n",
              "      <th>2</th>\n",
              "      <td>19.69</td>\n",
              "      <td>21.25</td>\n",
              "      <td>130.00</td>\n",
              "      <td>1203.0</td>\n",
              "      <td>0.10960</td>\n",
              "      <td>0.15990</td>\n",
              "      <td>0.1974</td>\n",
              "      <td>0.12790</td>\n",
              "      <td>0.2069</td>\n",
              "      <td>0.05999</td>\n",
              "      <td>...</td>\n",
              "      <td>23.57</td>\n",
              "      <td>25.53</td>\n",
              "      <td>152.50</td>\n",
              "      <td>1709.0</td>\n",
              "      <td>0.1444</td>\n",
              "      <td>0.4245</td>\n",
              "      <td>0.4504</td>\n",
              "      <td>0.2430</td>\n",
              "      <td>0.3613</td>\n",
              "      <td>0.08758</td>\n",
              "    </tr>\n",
              "    <tr>\n",
              "      <th>3</th>\n",
              "      <td>11.42</td>\n",
              "      <td>20.38</td>\n",
              "      <td>77.58</td>\n",
              "      <td>386.1</td>\n",
              "      <td>0.14250</td>\n",
              "      <td>0.28390</td>\n",
              "      <td>0.2414</td>\n",
              "      <td>0.10520</td>\n",
              "      <td>0.2597</td>\n",
              "      <td>0.09744</td>\n",
              "      <td>...</td>\n",
              "      <td>14.91</td>\n",
              "      <td>26.50</td>\n",
              "      <td>98.87</td>\n",
              "      <td>567.7</td>\n",
              "      <td>0.2098</td>\n",
              "      <td>0.8663</td>\n",
              "      <td>0.6869</td>\n",
              "      <td>0.2575</td>\n",
              "      <td>0.6638</td>\n",
              "      <td>0.17300</td>\n",
              "    </tr>\n",
              "    <tr>\n",
              "      <th>4</th>\n",
              "      <td>20.29</td>\n",
              "      <td>14.34</td>\n",
              "      <td>135.10</td>\n",
              "      <td>1297.0</td>\n",
              "      <td>0.10030</td>\n",
              "      <td>0.13280</td>\n",
              "      <td>0.1980</td>\n",
              "      <td>0.10430</td>\n",
              "      <td>0.1809</td>\n",
              "      <td>0.05883</td>\n",
              "      <td>...</td>\n",
              "      <td>22.54</td>\n",
              "      <td>16.67</td>\n",
              "      <td>152.20</td>\n",
              "      <td>1575.0</td>\n",
              "      <td>0.1374</td>\n",
              "      <td>0.2050</td>\n",
              "      <td>0.4000</td>\n",
              "      <td>0.1625</td>\n",
              "      <td>0.2364</td>\n",
              "      <td>0.07678</td>\n",
              "    </tr>\n",
              "  </tbody>\n",
              "</table>\n",
              "<p>5 rows × 30 columns</p>\n",
              "</div>"
            ],
            "text/plain": [
              "   mean radius  mean texture  mean perimeter  mean area  mean smoothness  \\\n",
              "0        17.99         10.38          122.80     1001.0          0.11840   \n",
              "1        20.57         17.77          132.90     1326.0          0.08474   \n",
              "2        19.69         21.25          130.00     1203.0          0.10960   \n",
              "3        11.42         20.38           77.58      386.1          0.14250   \n",
              "4        20.29         14.34          135.10     1297.0          0.10030   \n",
              "\n",
              "   mean compactness  mean concavity  mean concave points  mean symmetry  \\\n",
              "0           0.27760          0.3001              0.14710         0.2419   \n",
              "1           0.07864          0.0869              0.07017         0.1812   \n",
              "2           0.15990          0.1974              0.12790         0.2069   \n",
              "3           0.28390          0.2414              0.10520         0.2597   \n",
              "4           0.13280          0.1980              0.10430         0.1809   \n",
              "\n",
              "   mean fractal dimension  ...  worst radius  worst texture  worst perimeter  \\\n",
              "0                 0.07871  ...         25.38          17.33           184.60   \n",
              "1                 0.05667  ...         24.99          23.41           158.80   \n",
              "2                 0.05999  ...         23.57          25.53           152.50   \n",
              "3                 0.09744  ...         14.91          26.50            98.87   \n",
              "4                 0.05883  ...         22.54          16.67           152.20   \n",
              "\n",
              "   worst area  worst smoothness  worst compactness  worst concavity  \\\n",
              "0      2019.0            0.1622             0.6656           0.7119   \n",
              "1      1956.0            0.1238             0.1866           0.2416   \n",
              "2      1709.0            0.1444             0.4245           0.4504   \n",
              "3       567.7            0.2098             0.8663           0.6869   \n",
              "4      1575.0            0.1374             0.2050           0.4000   \n",
              "\n",
              "   worst concave points  worst symmetry  worst fractal dimension  \n",
              "0                0.2654          0.4601                  0.11890  \n",
              "1                0.1860          0.2750                  0.08902  \n",
              "2                0.2430          0.3613                  0.08758  \n",
              "3                0.2575          0.6638                  0.17300  \n",
              "4                0.1625          0.2364                  0.07678  \n",
              "\n",
              "[5 rows x 30 columns]"
            ]
          },
          "execution_count": 115,
          "metadata": {},
          "output_type": "execute_result"
        }
      ],
      "source": [
        "data=load_breast_cancer()\n",
        "x=pd.DataFrame(data.data,columns=data.feature_names)\n",
        "y=pd.Series(data.target)\n",
        "x.head(5)"
      ]
    },
    {
      "cell_type": "code",
      "execution_count": 116,
      "metadata": {
        "colab": {
          "base_uri": "https://localhost:8080/"
        },
        "id": "gP5XxHLmsR_r",
        "outputId": "69a40086-5261-458b-dca8-e753750d753c"
      },
      "outputs": [
        {
          "data": {
            "text/plain": [
              "1    357\n",
              "0    212\n",
              "dtype: int64"
            ]
          },
          "execution_count": 116,
          "metadata": {},
          "output_type": "execute_result"
        }
      ],
      "source": [
        "y.value_counts()"
      ]
    },
    {
      "cell_type": "code",
      "execution_count": 117,
      "metadata": {
        "colab": {
          "base_uri": "https://localhost:8080/"
        },
        "id": "Gp9AKFEyt-N3",
        "outputId": "f1eee71a-27f4-418a-adfe-3ef7c71df2cb"
      },
      "outputs": [
        {
          "data": {
            "text/plain": [
              "array(['malignant', 'benign'], dtype='<U9')"
            ]
          },
          "execution_count": 117,
          "metadata": {},
          "output_type": "execute_result"
        }
      ],
      "source": [
        "data.target_names"
      ]
    },
    {
      "cell_type": "code",
      "execution_count": 118,
      "metadata": {
        "id": "6HP-sqaguAcH"
      },
      "outputs": [],
      "source": [
        "x_train,x_test,y_train,y_test = train_test_split(x,y,test_size=0.3)\n"
      ]
    },
    {
      "cell_type": "code",
      "execution_count": 119,
      "metadata": {
        "id": "WQaGDnoVukTa"
      },
      "outputs": [],
      "source": [
        "model=LogisticRegression(C=95,penalty='l1',solver='liblinear')"
      ]
    },
    {
      "cell_type": "code",
      "execution_count": 120,
      "metadata": {
        "colab": {
          "base_uri": "https://localhost:8080/",
          "height": 75
        },
        "id": "AvxdUL73uzqY",
        "outputId": "cb6c4b3c-716e-4c3e-95ff-7c055d3f30cb"
      },
      "outputs": [
        {
          "data": {
            "text/plain": [
              "LogisticRegression(C=95, penalty='l1', solver='liblinear')"
            ]
          },
          "execution_count": 120,
          "metadata": {},
          "output_type": "execute_result"
        }
      ],
      "source": [
        "model.fit(x_train,y_train)"
      ]
    },
    {
      "cell_type": "code",
      "execution_count": 121,
      "metadata": {
        "id": "G9SF7S0nu9qf"
      },
      "outputs": [],
      "source": [
        "accuracy = model.score(x_test,y_test)"
      ]
    },
    {
      "cell_type": "code",
      "execution_count": 122,
      "metadata": {
        "colab": {
          "base_uri": "https://localhost:8080/"
        },
        "id": "Lu1SqpoJvIkk",
        "outputId": "c36d327c-4864-4947-fc08-2d71ad1d27ae"
      },
      "outputs": [
        {
          "data": {
            "text/plain": [
              "0.9473684210526315"
            ]
          },
          "execution_count": 122,
          "metadata": {},
          "output_type": "execute_result"
        }
      ],
      "source": [
        "accuracy"
      ]
    },
    {
      "cell_type": "code",
      "execution_count": 123,
      "metadata": {
        "id": "Lekb_DCLvVRF"
      },
      "outputs": [],
      "source": [
        "prediction = model.predict(x_test)"
      ]
    },
    {
      "cell_type": "code",
      "execution_count": 124,
      "metadata": {
        "colab": {
          "base_uri": "https://localhost:8080/"
        },
        "id": "8IsOvu94vc7o",
        "outputId": "e17eaac3-e611-4b2e-8551-ec079c92fa17"
      },
      "outputs": [
        {
          "data": {
            "text/plain": [
              "array([1, 0, 1, 0, 1, 0, 1, 1, 0])"
            ]
          },
          "execution_count": 124,
          "metadata": {},
          "output_type": "execute_result"
        }
      ],
      "source": [
        "prediction[1:10]"
      ]
    },
    {
      "cell_type": "code",
      "execution_count": 125,
      "metadata": {
        "colab": {
          "base_uri": "https://localhost:8080/"
        },
        "id": "EW0Aq5-6vjlv",
        "outputId": "02addf7c-17ad-4c43-c165-d8c684686430"
      },
      "outputs": [
        {
          "data": {
            "text/plain": [
              "174    1\n",
              "449    0\n",
              "557    1\n",
              "108    0\n",
              "197    0\n",
              "257    0\n",
              "268    1\n",
              "463    1\n",
              "328    0\n",
              "dtype: int32"
            ]
          },
          "execution_count": 125,
          "metadata": {},
          "output_type": "execute_result"
        }
      ],
      "source": [
        "y_test[1:10]"
      ]
    },
    {
      "cell_type": "code",
      "execution_count": 126,
      "metadata": {
        "id": "juE49V9Zv5j8"
      },
      "outputs": [],
      "source": [
        "from sklearn.metrics import confusion_matrix\n",
        "matrix=confusion_matrix(y_test,prediction)"
      ]
    },
    {
      "cell_type": "code",
      "execution_count": 127,
      "metadata": {
        "colab": {
          "base_uri": "https://localhost:8080/"
        },
        "id": "-gnTwfPgwfm6",
        "outputId": "7bde4c3f-254e-47a5-e245-b1efaea5dc54"
      },
      "outputs": [
        {
          "data": {
            "text/plain": [
              "array([[ 58,   7],\n",
              "       [  2, 104]], dtype=int64)"
            ]
          },
          "execution_count": 127,
          "metadata": {},
          "output_type": "execute_result"
        }
      ],
      "source": [
        "matrix"
      ]
    },
    {
      "cell_type": "code",
      "execution_count": 128,
      "metadata": {
        "id": "P1U6jKFswh8G"
      },
      "outputs": [],
      "source": [
        "prob = model.predict_proba(x_test)"
      ]
    },
    {
      "cell_type": "code",
      "execution_count": 129,
      "metadata": {
        "colab": {
          "base_uri": "https://localhost:8080/"
        },
        "id": "U9Om6cf8xLdc",
        "outputId": "5a391a3c-046e-467b-9508-6493695088de"
      },
      "outputs": [
        {
          "data": {
            "text/plain": [
              "array([[7.92205290e-02, 9.20779471e-01],\n",
              "       [2.58440134e-08, 9.99999974e-01],\n",
              "       [1.00000000e+00, 1.41317100e-17],\n",
              "       [9.59081039e-04, 9.99040919e-01],\n",
              "       [1.00000000e+00, 2.14644800e-27],\n",
              "       [2.06651088e-01, 7.93348912e-01],\n",
              "       [9.99998890e-01, 1.10979307e-06],\n",
              "       [6.70635927e-06, 9.99993294e-01],\n",
              "       [2.73084961e-05, 9.99972692e-01],\n",
              "       [9.99999733e-01, 2.66698100e-07],\n",
              "       [5.77647613e-07, 9.99999422e-01],\n",
              "       [1.00000000e+00, 3.25149724e-15],\n",
              "       [1.17913252e-05, 9.99988209e-01],\n",
              "       [7.75162823e-10, 9.99999999e-01],\n",
              "       [7.72592568e-07, 9.99999227e-01],\n",
              "       [1.19210257e-07, 9.99999881e-01],\n",
              "       [2.67575693e-08, 9.99999973e-01],\n",
              "       [2.87400402e-04, 9.99712600e-01],\n",
              "       [1.02348004e-07, 9.99999898e-01],\n",
              "       [1.04075794e-07, 9.99999896e-01],\n",
              "       [5.05748478e-07, 9.99999494e-01],\n",
              "       [1.64458389e-04, 9.99835542e-01],\n",
              "       [9.99999991e-01, 8.54334753e-09],\n",
              "       [8.16003255e-07, 9.99999184e-01],\n",
              "       [4.94548180e-09, 9.99999995e-01],\n",
              "       [9.99994292e-01, 5.70809631e-06],\n",
              "       [9.99999854e-01, 1.45731621e-07],\n",
              "       [9.99999988e-01, 1.21340658e-08],\n",
              "       [9.99424772e-01, 5.75227597e-04],\n",
              "       [1.00000000e+00, 3.77070247e-12],\n",
              "       [5.36775364e-03, 9.94632246e-01],\n",
              "       [5.32810112e-04, 9.99467190e-01],\n",
              "       [1.00000000e+00, 5.49618161e-14],\n",
              "       [1.34747149e-02, 9.86525285e-01],\n",
              "       [9.99999999e-01, 8.36509672e-10],\n",
              "       [1.14997310e-04, 9.99885003e-01],\n",
              "       [1.88039843e-06, 9.99998120e-01],\n",
              "       [9.99996917e-01, 3.08291838e-06],\n",
              "       [9.98607270e-01, 1.39273025e-03],\n",
              "       [9.99999917e-01, 8.26914044e-08],\n",
              "       [5.81172266e-02, 9.41882773e-01],\n",
              "       [1.00000000e+00, 2.06115441e-11],\n",
              "       [8.81998071e-06, 9.99991180e-01],\n",
              "       [1.00000000e+00, 7.51670790e-16],\n",
              "       [2.24494677e-08, 9.99999978e-01],\n",
              "       [1.00000000e+00, 3.99517139e-18],\n",
              "       [1.00000000e+00, 4.67029504e-10],\n",
              "       [8.50848548e-08, 9.99999915e-01],\n",
              "       [1.34505929e-01, 8.65494071e-01],\n",
              "       [5.40330671e-04, 9.99459669e-01],\n",
              "       [9.31759969e-09, 9.99999991e-01],\n",
              "       [2.18556651e-05, 9.99978144e-01],\n",
              "       [5.51393611e-05, 9.99944861e-01],\n",
              "       [7.18257209e-09, 9.99999993e-01],\n",
              "       [5.76309309e-02, 9.42369069e-01],\n",
              "       [3.21964677e-14, 1.00000000e+00],\n",
              "       [1.00000000e+00, 1.07079099e-11],\n",
              "       [5.61294734e-01, 4.38705266e-01],\n",
              "       [5.95727732e-04, 9.99404272e-01],\n",
              "       [9.99995766e-01, 4.23443577e-06],\n",
              "       [8.37169567e-06, 9.99991628e-01],\n",
              "       [8.02479373e-07, 9.99999198e-01],\n",
              "       [3.17457432e-01, 6.82542568e-01],\n",
              "       [9.99930449e-01, 6.95509027e-05],\n",
              "       [2.56618726e-10, 1.00000000e+00],\n",
              "       [9.99999999e-01, 7.59556955e-10],\n",
              "       [1.00000000e+00, 3.51240232e-10],\n",
              "       [1.00000000e+00, 9.83753681e-13],\n",
              "       [3.30790906e-09, 9.99999997e-01],\n",
              "       [3.37489899e-06, 9.99996625e-01],\n",
              "       [6.46141038e-04, 9.99353859e-01],\n",
              "       [2.28862619e-01, 7.71137381e-01],\n",
              "       [1.38742631e-02, 9.86125737e-01],\n",
              "       [7.83873254e-08, 9.99999922e-01],\n",
              "       [8.36319677e-06, 9.99991637e-01],\n",
              "       [2.16323181e-03, 9.97836768e-01],\n",
              "       [2.95155242e-02, 9.70484476e-01],\n",
              "       [8.68993422e-09, 9.99999991e-01],\n",
              "       [7.51626394e-03, 9.92483736e-01],\n",
              "       [2.60431895e-05, 9.99973957e-01],\n",
              "       [1.00000000e+00, 1.08709963e-41],\n",
              "       [1.00000000e+00, 1.45856034e-23],\n",
              "       [1.30082945e-05, 9.99986992e-01],\n",
              "       [2.11964712e-09, 9.99999998e-01],\n",
              "       [5.09121944e-05, 9.99949088e-01],\n",
              "       [2.65715173e-07, 9.99999734e-01],\n",
              "       [1.00000000e+00, 5.79516782e-14],\n",
              "       [3.27703731e-09, 9.99999997e-01],\n",
              "       [6.78656235e-01, 3.21343765e-01],\n",
              "       [1.00000000e+00, 2.39311248e-14],\n",
              "       [1.00000000e+00, 1.43064314e-18],\n",
              "       [1.20911291e-04, 9.99879089e-01],\n",
              "       [1.47211156e-01, 8.52788844e-01],\n",
              "       [2.12472647e-03, 9.97875274e-01],\n",
              "       [1.00000000e+00, 2.44574756e-19],\n",
              "       [2.80701284e-06, 9.99997193e-01],\n",
              "       [1.00000000e+00, 1.26379657e-34],\n",
              "       [1.20483136e-07, 9.99999880e-01],\n",
              "       [4.49151838e-08, 9.99999955e-01],\n",
              "       [7.56854643e-08, 9.99999924e-01],\n",
              "       [2.56536083e-05, 9.99974346e-01],\n",
              "       [1.00000000e+00, 7.26342940e-32],\n",
              "       [4.16881335e-03, 9.95831187e-01],\n",
              "       [1.00000000e+00, 1.68552091e-28],\n",
              "       [1.00000000e+00, 2.19009410e-11],\n",
              "       [9.99999998e-01, 2.29891187e-09],\n",
              "       [1.06067431e-07, 9.99999894e-01],\n",
              "       [1.00000000e+00, 3.70133359e-12],\n",
              "       [9.99999855e-01, 1.45023349e-07],\n",
              "       [5.27113790e-06, 9.99994729e-01],\n",
              "       [4.33340408e-03, 9.95666596e-01],\n",
              "       [9.99990676e-01, 9.32388272e-06],\n",
              "       [7.87033335e-06, 9.99992130e-01],\n",
              "       [1.00000000e+00, 1.04356340e-15],\n",
              "       [9.99992145e-01, 7.85483545e-06],\n",
              "       [4.44306140e-06, 9.99995557e-01],\n",
              "       [3.00774672e-09, 9.99999997e-01],\n",
              "       [5.71577453e-02, 9.42842255e-01],\n",
              "       [9.72821698e-06, 9.99990272e-01],\n",
              "       [5.45628724e-06, 9.99994544e-01],\n",
              "       [9.98538763e-01, 1.46123668e-03],\n",
              "       [4.26694650e-06, 9.99995733e-01],\n",
              "       [4.88939695e-06, 9.99995111e-01],\n",
              "       [5.18427409e-07, 9.99999482e-01],\n",
              "       [1.27782456e-03, 9.98722175e-01],\n",
              "       [1.20062629e-06, 9.99998799e-01],\n",
              "       [1.00000000e+00, 8.74128180e-11],\n",
              "       [4.02592113e-07, 9.99999597e-01],\n",
              "       [4.10264325e-06, 9.99995897e-01],\n",
              "       [1.00000000e+00, 5.09768784e-26],\n",
              "       [9.58517685e-01, 4.14823151e-02],\n",
              "       [8.58967886e-08, 9.99999914e-01],\n",
              "       [1.89272812e-06, 9.99998107e-01],\n",
              "       [1.00000000e+00, 4.67931772e-16],\n",
              "       [3.52013604e-02, 9.64798640e-01],\n",
              "       [9.99983008e-01, 1.69923584e-05],\n",
              "       [1.00000000e+00, 2.01513782e-14],\n",
              "       [1.03510932e-05, 9.99989649e-01],\n",
              "       [1.93779674e-02, 9.80622033e-01],\n",
              "       [9.99998535e-01, 1.46474475e-06],\n",
              "       [9.25239664e-01, 7.47603357e-02],\n",
              "       [2.31468759e-04, 9.99768531e-01],\n",
              "       [1.34060085e-08, 9.99999987e-01],\n",
              "       [8.99359695e-05, 9.99910064e-01],\n",
              "       [9.66671925e-01, 3.33280751e-02],\n",
              "       [7.70212145e-07, 9.99999230e-01],\n",
              "       [4.91373320e-06, 9.99995086e-01],\n",
              "       [9.99998443e-01, 1.55659052e-06],\n",
              "       [8.33197614e-05, 9.99916680e-01],\n",
              "       [6.01122793e-06, 9.99993989e-01],\n",
              "       [1.40677324e-06, 9.99998593e-01],\n",
              "       [1.00000000e+00, 6.91877819e-17],\n",
              "       [1.25891730e-05, 9.99987411e-01],\n",
              "       [8.93836187e-08, 9.99999911e-01],\n",
              "       [2.35681048e-05, 9.99976432e-01],\n",
              "       [1.00000000e+00, 1.73342560e-18],\n",
              "       [9.99962189e-01, 3.78113437e-05],\n",
              "       [1.58183013e-08, 9.99999984e-01],\n",
              "       [9.30466337e-09, 9.99999991e-01],\n",
              "       [5.05691711e-10, 9.99999999e-01],\n",
              "       [1.03238144e-07, 9.99999897e-01],\n",
              "       [3.80830810e-02, 9.61916919e-01],\n",
              "       [2.43285729e-02, 9.75671427e-01],\n",
              "       [1.00000000e+00, 1.85175114e-12],\n",
              "       [3.85727944e-08, 9.99999961e-01],\n",
              "       [6.82428234e-05, 9.99931757e-01],\n",
              "       [6.36092570e-03, 9.93639074e-01],\n",
              "       [5.99968741e-09, 9.99999994e-01],\n",
              "       [3.46112114e-03, 9.96538879e-01],\n",
              "       [1.79450260e-01, 8.20549740e-01],\n",
              "       [9.99996443e-01, 3.55689777e-06]])"
            ]
          },
          "execution_count": 129,
          "metadata": {},
          "output_type": "execute_result"
        }
      ],
      "source": [
        "prob"
      ]
    },
    {
      "cell_type": "code",
      "execution_count": 130,
      "metadata": {
        "id": "wB6sNdm3xM08"
      },
      "outputs": [],
      "source": [
        "from sklearn.metrics import roc_curve\n",
        "prob2=prob[:,1]\n",
        "FPR,TPR,th=roc_curve(y_test,prob2)"
      ]
    },
    {
      "cell_type": "code",
      "execution_count": 131,
      "metadata": {
        "colab": {
          "base_uri": "https://localhost:8080/",
          "height": 447
        },
        "id": "GZ5OabkhydCO",
        "outputId": "38971049-4251-4d5b-b6a7-fe3e6feb1c27"
      },
      "outputs": [
        {
          "name": "stdout",
          "output_type": "stream",
          "text": [
            "0.9728592162554426\n"
          ]
        },
        {
          "data": {
            "image/png": "[encoded data removed]",
            "text/plain": [
              "<Figure size 640x480 with 1 Axes>"
            ]
          },
          "metadata": {},
          "output_type": "display_data"
        }
      ],
      "source": [
        "plt.scatter(FPR,TPR)\n",
        "from sklearn.metrics import roc_auc_score\n",
        "auc=roc_auc_score(y_test,prob2)\n",
        "print(auc)"
      ]
    }
  ],
  "metadata": {
    "colab": {
      "provenance": []
    },
    "kernelspec": {
      "display_name": "Python 3",
      "name": "python3"
    },
    "language_info": {
      "codemirror_mode": {
        "name": "ipython",
        "version": 3
      },
      "file_extension": ".py",
      "mimetype": "text/x-python",
      "name": "python",
      "nbconvert_exporter": "python",
      "pygments_lexer": "ipython3",
      "version": "3.7.8"
    }
  },
  "nbformat": 4,
  "nbformat_minor": 0
}
