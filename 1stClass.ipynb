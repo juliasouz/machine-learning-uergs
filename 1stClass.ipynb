{
  "nbformat": 4,
  "nbformat_minor": 0,
  "metadata": {
    "colab": {
      "provenance": []
    },
    "kernelspec": {
      "name": "python3",
      "display_name": "Python 3"
    },
    "language_info": {
      "name": "python"
    }
  },
  "cells": [
    {
      "cell_type": "code",
      "execution_count": 2,
      "metadata": {
        "id": "Tu2uCtEiaHFj"
      },
      "outputs": [],
      "source": [
        "import numpy as np\n",
        "import matplotlib.pyplot as plt\n",
        "import pandas as pd"
      ]
    },
    {
      "cell_type": "code",
      "source": [
        "data = pd.read_excel(\"teste2.xlsx\")"
      ],
      "metadata": {
        "id": "0sXcjCFQacjh"
      },
      "execution_count": null,
      "outputs": []
    },
    {
      "cell_type": "code",
      "source": [
        "data.head(20)"
      ],
      "metadata": {
        "id": "ODde_YKCasi2"
      },
      "execution_count": null,
      "outputs": []
    },
    {
      "cell_type": "code",
      "source": [
        "data.describe()"
      ],
      "metadata": {
        "id": "QDxYZf7iavsz"
      },
      "execution_count": null,
      "outputs": []
    },
    {
      "cell_type": "code",
      "source": [
        "data['letters']"
      ],
      "metadata": {
        "id": "ZJd5iCJnayQ7"
      },
      "execution_count": null,
      "outputs": []
    },
    {
      "cell_type": "code",
      "source": [
        "data.dtypes"
      ],
      "metadata": {
        "id": "A68V4imbazsj"
      },
      "execution_count": null,
      "outputs": []
    },
    {
      "cell_type": "code",
      "source": [
        "data.loc[2:5]\n",
        "new_data=data.loc[data['letters']=='a']"
      ],
      "metadata": {
        "id": "lwfkjlD0a29b"
      },
      "execution_count": null,
      "outputs": []
    },
    {
      "cell_type": "code",
      "source": [
        "data.isnull().sum()"
      ],
      "metadata": {
        "id": "28mH2K0Ebd3c"
      },
      "execution_count": null,
      "outputs": []
    },
    {
      "cell_type": "code",
      "source": [
        "data.dropna(axis=0, inplace=True)"
      ],
      "metadata": {
        "id": "HRnoE5Qhbuht"
      },
      "execution_count": null,
      "outputs": []
    },
    {
      "cell_type": "code",
      "source": [
        "thesis_grades={'grades':['Adri','Ulisses','Pedro'],'Grade_1':[10,9,9]}"
      ],
      "metadata": {
        "id": "VbWY90cFcCBU"
      },
      "execution_count": null,
      "outputs": []
    },
    {
      "cell_type": "code",
      "source": [
        "gradesDF=pd.DataFrame(thesis_grades)\n",
        "gradesDF"
      ],
      "metadata": {
        "id": "MVjRooyOdM7b"
      },
      "execution_count": null,
      "outputs": []
    },
    {
      "cell_type": "code",
      "source": [
        "filter=gradesDF.loc[gradesDF['Grade_1']>9]"
      ],
      "metadata": {
        "id": "md4HVMi8dx84"
      },
      "execution_count": null,
      "outputs": []
    },
    {
      "cell_type": "code",
      "source": [
        "athletes=pd.read_csv(\"Forbes_athletes.csv\")"
      ],
      "metadata": {
        "id": "nQJN6P3lekyc"
      },
      "execution_count": null,
      "outputs": []
    },
    {
      "cell_type": "code",
      "source": [
        "athletes.head()"
      ],
      "metadata": {
        "id": "qMS_Dpbbfgjm"
      },
      "execution_count": null,
      "outputs": []
    },
    {
      "cell_type": "code",
      "source": [
        "athletes['Nationality'].value_counts()"
      ],
      "metadata": {
        "id": "pxDDtJKUfsbQ"
      },
      "execution_count": null,
      "outputs": []
    },
    {
      "cell_type": "code",
      "source": [
        "athletes.dtypes"
      ],
      "metadata": {
        "id": "2pS43x5FgKJh"
      },
      "execution_count": null,
      "outputs": []
    },
    {
      "cell_type": "code",
      "source": [
        "missing_data=athletes.isnull().sum()"
      ],
      "metadata": {
        "id": "JG5R9SoBgMCN"
      },
      "execution_count": null,
      "outputs": []
    },
    {
      "cell_type": "code",
      "source": [
        "print(missing_data)"
      ],
      "metadata": {
        "id": "vwqPcSY-g62F"
      },
      "execution_count": null,
      "outputs": []
    },
    {
      "cell_type": "code",
      "source": [
        "y=athletes['earnings ($ million)']"
      ],
      "metadata": {
        "id": "pKutqUbMhhBT"
      },
      "execution_count": null,
      "outputs": []
    },
    {
      "cell_type": "code",
      "source": [
        "x=athletes"
      ],
      "metadata": {
        "id": "8UkFptT6iLvi"
      },
      "execution_count": null,
      "outputs": []
    },
    {
      "cell_type": "code",
      "source": [
        "x.drop('earnings ($ million)',axis=1,inplace=True)"
      ],
      "metadata": {
        "id": "VobTT6J2iNzX"
      },
      "execution_count": null,
      "outputs": []
    },
    {
      "cell_type": "code",
      "source": [],
      "metadata": {
        "id": "2DxUqIjoijXE"
      },
      "execution_count": null,
      "outputs": []
    }
  ]
}