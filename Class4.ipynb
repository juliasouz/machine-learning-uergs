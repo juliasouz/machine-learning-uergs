{
  "nbformat": 4,
  "nbformat_minor": 0,
  "metadata": {
    "colab": {
      "provenance": []
    },
    "kernelspec": {
      "name": "python3",
      "display_name": "Python 3"
    },
    "language_info": {
      "name": "python"
    }
  },
  "cells": [
    {
      "cell_type": "code",
      "execution_count": null,
      "metadata": {
        "id": "_pYKgV0TPl-0"
      },
      "outputs": [],
      "source": [
        "import pandas as pd\n",
        "import matplotlib.pyplot as plt\n",
        "from sklearn.model_selection import train_test_split, StratifiedKFold, cross_val_score\n",
        "from keras.models import Sequential\n",
        "from keras.layers import Dense, Dropout\n",
        "from keras import regularizers\n",
        "from keras.optimizers import SGD, Nadam, Adam"
      ]
    },
    {
      "cell_type": "code",
      "source": [
        "#Loading data from the CSV file\n",
        "data = pd.read_csv('/content/balance-scale.data', names=['Classe', 'Left-W', 'Left-D', 'Right-W', 'Right-D'])"
      ],
      "metadata": {
        "id": "FF1TPFftQtRV"
      },
      "execution_count": null,
      "outputs": []
    },
    {
      "cell_type": "code",
      "source": [
        "x = data.drop('Classe', axis=1)\n",
        "y = data['Classe']\n",
        "#Updating the target vector to numerical values\n",
        "y.replace({'L': 0, 'B': 1, 'R': 2},inplace=True)\n",
        "#Splitting the data into training and testing sets\n",
        "x_train, x_test, y_train, y_test = train_test_split(x, y, test_size=0.2, random_state=42)"
      ],
      "metadata": {
        "id": "ITvXQXm1WlWJ"
      },
      "execution_count": null,
      "outputs": []
    },
    {
      "cell_type": "code",
      "source": [
        "#Setting the number of epochs, hidden layers, number of neurons in each layer, and batch size\n",
        "num_epochs = 50\n",
        "num_hidden_layers = 2\n",
        "num_neurons_per_layer = [64, 32]\n",
        "batch_size = 32"
      ],
      "metadata": {
        "id": "sajDnnNeSRr_"
      },
      "execution_count": null,
      "outputs": []
    },
    {
      "cell_type": "code",
      "source": [
        "#Using two different regularizations: Dropout and L2\n",
        "dropout_regularization = 0.2\n",
        "regularization_l2 = 0.01"
      ],
      "metadata": {
        "id": "QHhfoWHquSih"
      },
      "execution_count": null,
      "outputs": []
    },
    {
      "cell_type": "code",
      "source": [
        "#Using three different optimizers: Adam, RMSprop, and SGD\n",
        "optimizers = [SGD(momentum=0.9), Nadam(), Adam()]\n",
        "\n",
        "#Creating the neural network model\n",
        "model = Sequential()\n",
        "model.add(Dense(num_neurons_per_layer[0], input_dim=4, activation='relu', kernel_regularizer=regularizers.l2(regularization_l2)))\n",
        "model.add(Dropout(dropout_regularization))\n",
        "\n",
        "for i in range(num_hidden_layers - 1):\n",
        "    model.add(Dense(num_neurons_per_layer[i + 1], activation='relu', kernel_regularizer=regularizers.l2(regularization_l2)))\n",
        "    model.add(Dropout(dropout_regularization))\n",
        "\n",
        "model.add(Dense(1, activation='sigmoid'))\n",
        "\n",
        "#Compiling the neural network model\n",
        "model.compile(loss='binary_crossentropy', optimizer='adam', metrics=['accuracy'])\n",
        "y.replace({'L': 0, 'B': 1, 'R': 2}, inplace=True)\n",
        "x_train, x_test, y_train, y_test = train_test_split(x, y, test_size=0.2, random_state=42)\n",
        "\n",
        "#Training the neural network mode\n",
        "training_history = model.fit(x_train, y_train, epochs=num_epochs, batch_size=batch_size, validation_data=(x_test, y_test))\n",
        "\n",
        "#Evaluating the performance of the neural network model\n",
        "result = model.evaluate(x_test, y_test)\n",
        "print('Loss:', result[0])\n",
        "print('Accuracy:', result[1])\n",
        "\n",
        "result = model.evaluate(x_test, y_test)\n",
        "print('Loss:', result[0])\n",
        "print('Accuracy:', result[1])"
      ],
      "metadata": {
        "id": "5qvgls0XSdMC",
        "colab": {
          "base_uri": "https://localhost:8080/"
        },
        "outputId": "bab4cc0d-34b0-44bf-9012-b344d0b733d9"
      },
      "execution_count": null,
      "outputs": [
        {
          "output_type": "stream",
          "name": "stdout",
          "text": [
            "Epoch 1/50\n",
            "16/16 [==============================] - 1s 16ms/step - loss: 1.6369 - accuracy: 0.4300 - val_loss: 0.9098 - val_accuracy: 0.2400\n",
            "Epoch 2/50\n",
            "16/16 [==============================] - 0s 4ms/step - loss: 0.7564 - accuracy: 0.1720 - val_loss: 0.2205 - val_accuracy: 0.1120\n",
            "Epoch 3/50\n",
            "16/16 [==============================] - 0s 6ms/step - loss: 0.0901 - accuracy: 0.1680 - val_loss: -0.2844 - val_accuracy: 0.1360\n",
            "Epoch 4/50\n",
            "16/16 [==============================] - 0s 5ms/step - loss: -0.3699 - accuracy: 0.2080 - val_loss: -0.8904 - val_accuracy: 0.1760\n",
            "Epoch 5/50\n",
            "16/16 [==============================] - 0s 5ms/step - loss: -1.0069 - accuracy: 0.2060 - val_loss: -1.6711 - val_accuracy: 0.1920\n",
            "Epoch 6/50\n",
            "16/16 [==============================] - 0s 5ms/step - loss: -1.9309 - accuracy: 0.2400 - val_loss: -2.6627 - val_accuracy: 0.2000\n",
            "Epoch 7/50\n",
            "16/16 [==============================] - 0s 5ms/step - loss: -3.0611 - accuracy: 0.2420 - val_loss: -3.8875 - val_accuracy: 0.2320\n",
            "Epoch 8/50\n",
            "16/16 [==============================] - 0s 6ms/step - loss: -4.3659 - accuracy: 0.2280 - val_loss: -5.5028 - val_accuracy: 0.2560\n",
            "Epoch 9/50\n",
            "16/16 [==============================] - 0s 6ms/step - loss: -6.4673 - accuracy: 0.2280 - val_loss: -7.6590 - val_accuracy: 0.2000\n",
            "Epoch 10/50\n",
            "16/16 [==============================] - 0s 4ms/step - loss: -9.0171 - accuracy: 0.2200 - val_loss: -10.4110 - val_accuracy: 0.2000\n",
            "Epoch 11/50\n",
            "16/16 [==============================] - 0s 4ms/step - loss: -11.3794 - accuracy: 0.2160 - val_loss: -13.6350 - val_accuracy: 0.2160\n",
            "Epoch 12/50\n",
            "16/16 [==============================] - 0s 5ms/step - loss: -14.8753 - accuracy: 0.2300 - val_loss: -17.6466 - val_accuracy: 0.2080\n",
            "Epoch 13/50\n",
            "16/16 [==============================] - 0s 5ms/step - loss: -19.8048 - accuracy: 0.2120 - val_loss: -22.7235 - val_accuracy: 0.2080\n",
            "Epoch 14/50\n",
            "16/16 [==============================] - 0s 4ms/step - loss: -25.0595 - accuracy: 0.2320 - val_loss: -28.8836 - val_accuracy: 0.2240\n",
            "Epoch 15/50\n",
            "16/16 [==============================] - 0s 6ms/step - loss: -31.9771 - accuracy: 0.2260 - val_loss: -36.2966 - val_accuracy: 0.2160\n",
            "Epoch 16/50\n",
            "16/16 [==============================] - 0s 6ms/step - loss: -40.9616 - accuracy: 0.2300 - val_loss: -45.2596 - val_accuracy: 0.2160\n",
            "Epoch 17/50\n",
            "16/16 [==============================] - 0s 6ms/step - loss: -49.2283 - accuracy: 0.2220 - val_loss: -55.7525 - val_accuracy: 0.2160\n",
            "Epoch 18/50\n",
            "16/16 [==============================] - 0s 9ms/step - loss: -61.4466 - accuracy: 0.2120 - val_loss: -68.1974 - val_accuracy: 0.2160\n",
            "Epoch 19/50\n",
            "16/16 [==============================] - 0s 7ms/step - loss: -77.6633 - accuracy: 0.2260 - val_loss: -82.9490 - val_accuracy: 0.2080\n",
            "Epoch 20/50\n",
            "16/16 [==============================] - 0s 8ms/step - loss: -93.6171 - accuracy: 0.2240 - val_loss: -98.9928 - val_accuracy: 0.2160\n",
            "Epoch 21/50\n",
            "16/16 [==============================] - 0s 9ms/step - loss: -106.5612 - accuracy: 0.2180 - val_loss: -118.3870 - val_accuracy: 0.2160\n",
            "Epoch 22/50\n",
            "16/16 [==============================] - 0s 9ms/step - loss: -125.9546 - accuracy: 0.2240 - val_loss: -139.3145 - val_accuracy: 0.2160\n",
            "Epoch 23/50\n",
            "16/16 [==============================] - 0s 9ms/step - loss: -149.1483 - accuracy: 0.2300 - val_loss: -161.7302 - val_accuracy: 0.2240\n",
            "Epoch 24/50\n",
            "16/16 [==============================] - 0s 9ms/step - loss: -175.6291 - accuracy: 0.2280 - val_loss: -189.5887 - val_accuracy: 0.2160\n",
            "Epoch 25/50\n",
            "16/16 [==============================] - 0s 9ms/step - loss: -202.8517 - accuracy: 0.2280 - val_loss: -217.9062 - val_accuracy: 0.2160\n",
            "Epoch 26/50\n",
            "16/16 [==============================] - 0s 8ms/step - loss: -232.0313 - accuracy: 0.2060 - val_loss: -248.1688 - val_accuracy: 0.2160\n",
            "Epoch 27/50\n",
            "16/16 [==============================] - 0s 10ms/step - loss: -263.3126 - accuracy: 0.2140 - val_loss: -282.4628 - val_accuracy: 0.2160\n",
            "Epoch 28/50\n",
            "16/16 [==============================] - 0s 7ms/step - loss: -311.3316 - accuracy: 0.2300 - val_loss: -320.8150 - val_accuracy: 0.2160\n",
            "Epoch 29/50\n",
            "16/16 [==============================] - 0s 7ms/step - loss: -346.7408 - accuracy: 0.2220 - val_loss: -362.7667 - val_accuracy: 0.2160\n",
            "Epoch 30/50\n",
            "16/16 [==============================] - 0s 7ms/step - loss: -382.0008 - accuracy: 0.2100 - val_loss: -404.4394 - val_accuracy: 0.2160\n",
            "Epoch 31/50\n",
            "16/16 [==============================] - 0s 6ms/step - loss: -424.5939 - accuracy: 0.2360 - val_loss: -451.5508 - val_accuracy: 0.2160\n",
            "Epoch 32/50\n",
            "16/16 [==============================] - 0s 7ms/step - loss: -477.0645 - accuracy: 0.2160 - val_loss: -503.9740 - val_accuracy: 0.2160\n",
            "Epoch 33/50\n",
            "16/16 [==============================] - 0s 6ms/step - loss: -526.0831 - accuracy: 0.2160 - val_loss: -558.5324 - val_accuracy: 0.2160\n",
            "Epoch 34/50\n",
            "16/16 [==============================] - 0s 6ms/step - loss: -601.8828 - accuracy: 0.2260 - val_loss: -613.5256 - val_accuracy: 0.2240\n",
            "Epoch 35/50\n",
            "16/16 [==============================] - 0s 7ms/step - loss: -657.3311 - accuracy: 0.2180 - val_loss: -680.0349 - val_accuracy: 0.2160\n",
            "Epoch 36/50\n",
            "16/16 [==============================] - 0s 7ms/step - loss: -714.2665 - accuracy: 0.2020 - val_loss: -748.2440 - val_accuracy: 0.2160\n",
            "Epoch 37/50\n",
            "16/16 [==============================] - 0s 7ms/step - loss: -770.0945 - accuracy: 0.2240 - val_loss: -811.2143 - val_accuracy: 0.2320\n",
            "Epoch 38/50\n",
            "16/16 [==============================] - 0s 7ms/step - loss: -848.0590 - accuracy: 0.2280 - val_loss: -884.7919 - val_accuracy: 0.2240\n",
            "Epoch 39/50\n",
            "16/16 [==============================] - 0s 8ms/step - loss: -954.4288 - accuracy: 0.2300 - val_loss: -964.4070 - val_accuracy: 0.2240\n",
            "Epoch 40/50\n",
            "16/16 [==============================] - 0s 8ms/step - loss: -1035.4102 - accuracy: 0.2260 - val_loss: -1051.1383 - val_accuracy: 0.2160\n",
            "Epoch 41/50\n",
            "16/16 [==============================] - 0s 5ms/step - loss: -1113.1313 - accuracy: 0.2340 - val_loss: -1137.4939 - val_accuracy: 0.2160\n",
            "Epoch 42/50\n",
            "16/16 [==============================] - 0s 4ms/step - loss: -1216.4958 - accuracy: 0.2320 - val_loss: -1237.4834 - val_accuracy: 0.2160\n",
            "Epoch 43/50\n",
            "16/16 [==============================] - 0s 5ms/step - loss: -1280.4420 - accuracy: 0.2220 - val_loss: -1330.7688 - val_accuracy: 0.2160\n",
            "Epoch 44/50\n",
            "16/16 [==============================] - 0s 4ms/step - loss: -1390.8143 - accuracy: 0.2320 - val_loss: -1436.0098 - val_accuracy: 0.2160\n",
            "Epoch 45/50\n",
            "16/16 [==============================] - 0s 4ms/step - loss: -1508.6882 - accuracy: 0.2140 - val_loss: -1550.3690 - val_accuracy: 0.2160\n",
            "Epoch 46/50\n",
            "16/16 [==============================] - 0s 5ms/step - loss: -1574.3015 - accuracy: 0.2160 - val_loss: -1656.8964 - val_accuracy: 0.2160\n",
            "Epoch 47/50\n",
            "16/16 [==============================] - 0s 5ms/step - loss: -1768.7379 - accuracy: 0.2380 - val_loss: -1773.7886 - val_accuracy: 0.2160\n",
            "Epoch 48/50\n",
            "16/16 [==============================] - 0s 5ms/step - loss: -1889.1566 - accuracy: 0.2280 - val_loss: -1906.7375 - val_accuracy: 0.2160\n",
            "Epoch 49/50\n",
            "16/16 [==============================] - 0s 4ms/step - loss: -1968.6063 - accuracy: 0.2100 - val_loss: -2032.7695 - val_accuracy: 0.2160\n",
            "Epoch 50/50\n",
            "16/16 [==============================] - 0s 5ms/step - loss: -2212.4451 - accuracy: 0.2260 - val_loss: -2174.5017 - val_accuracy: 0.2160\n",
            "4/4 [==============================] - 0s 4ms/step - loss: -2174.5017 - accuracy: 0.2160\n",
            "Perda (loss): -2174.501708984375\n",
            "Acurácia (accuracy): 0.2160000056028366\n",
            "4/4 [==============================] - 0s 5ms/step - loss: -2174.5017 - accuracy: 0.2160\n",
            "Perda (loss): -2174.501708984375\n",
            "Acurácia (accuracy): 0.2160000056028366\n"
          ]
        }
      ]
    },
    {
      "cell_type": "code",
      "source": [
        " #Plotting a graph of the neural network model’s accuracy over epochs.\n",
        "\n",
        "plt.plot(training_history.history['accuracy'])\n",
        "plt.title('Model Accuracy')\n",
        "plt.ylabel('Accuracy')\n",
        "plt.xlabel('Epoch')\n",
        "plt.legend(['Train', 'Validation'], loc='upper left')\n",
        "plt.show()\n"
      ],
      "metadata": {
        "id": "-XfgujwitUKy",
        "colab": {
          "base_uri": "https://localhost:8080/",
          "height": 474
        },
        "outputId": "a873a7b2-592a-411a-b5db-c970054b2ebb"
      },
      "execution_count": null,
      "outputs": [
        {
          "output_type": "display_data",
          "data": {
            "text/plain": [
              "<Figure size 640x480 with 1 Axes>"
            ],
            "image/png": "[encoded data removed]"
          },
          "metadata": {}
        }
      ]
    },
    {
      "cell_type": "code",
      "source": [],
      "metadata": {
        "id": "63NMdY3taV6k"
      },
      "execution_count": null,
      "outputs": []
    }
  ]
}