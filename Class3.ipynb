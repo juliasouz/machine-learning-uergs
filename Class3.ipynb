{
  "nbformat": 4,
  "nbformat_minor": 0,
  "metadata": {
    "colab": {
      "provenance": []
    },
    "kernelspec": {
      "name": "python3",
      "display_name": "Python 3"
    },
    "language_info": {
      "name": "python"
    }
  },
  "cells": [
    {
      "cell_type": "code",
      "execution_count": null,
      "metadata": {
        "id": "GaebHiM-rV_I"
      },
      "outputs": [],
      "source": [
        "import numpy as np\n",
        "import matplotlib.pyplot as plt\n",
        "import pandas as pd\n",
        "from sklearn.model_selection import train_test_split\n",
        "from sklearn.datasets import load_breast_cancer\n",
        "\n",
        "from sklearn.linear_model import LogisticRegression\n",
        "from sklearn.model_selection import cross_val_score\n",
        "from sklearn.metrics import confusion_matrix"
      ]
    },
    {
      "cell_type": "code",
      "source": [
        "dados=load_breast_cancer()\n",
        "x=pd.DataFrame(dados.data,columns=[dados.feature_names])\n",
        "y=pd.Series(dados.target)\n",
        "x.head(5)"
      ],
      "metadata": {
        "colab": {
          "base_uri": "https://localhost:8080/",
          "height": 290
        },
        "id": "JSpvkw3IrqZb",
        "outputId": "c581df25-5a05-49e6-ec3f-b2231232ba52"
      },
      "execution_count": null,
      "outputs": [
        {
          "output_type": "execute_result",
          "data": {
            "text/plain": [
              "  mean radius mean texture mean perimeter mean area mean smoothness  \\\n",
              "0       17.99        10.38         122.80    1001.0         0.11840   \n",
              "1       20.57        17.77         132.90    1326.0         0.08474   \n",
              "2       19.69        21.25         130.00    1203.0         0.10960   \n",
              "3       11.42        20.38          77.58     386.1         0.14250   \n",
              "4       20.29        14.34         135.10    1297.0         0.10030   \n",
              "\n",
              "  mean compactness mean concavity mean concave points mean symmetry  \\\n",
              "0          0.27760         0.3001             0.14710        0.2419   \n",
              "1          0.07864         0.0869             0.07017        0.1812   \n",
              "2          0.15990         0.1974             0.12790        0.2069   \n",
              "3          0.28390         0.2414             0.10520        0.2597   \n",
              "4          0.13280         0.1980             0.10430        0.1809   \n",
              "\n",
              "  mean fractal dimension  ... worst radius worst texture worst perimeter  \\\n",
              "0                0.07871  ...        25.38         17.33          184.60   \n",
              "1                0.05667  ...        24.99         23.41          158.80   \n",
              "2                0.05999  ...        23.57         25.53          152.50   \n",
              "3                0.09744  ...        14.91         26.50           98.87   \n",
              "4                0.05883  ...        22.54         16.67          152.20   \n",
              "\n",
              "  worst area worst smoothness worst compactness worst concavity  \\\n",
              "0     2019.0           0.1622            0.6656          0.7119   \n",
              "1     1956.0           0.1238            0.1866          0.2416   \n",
              "2     1709.0           0.1444            0.4245          0.4504   \n",
              "3      567.7           0.2098            0.8663          0.6869   \n",
              "4     1575.0           0.1374            0.2050          0.4000   \n",
              "\n",
              "  worst concave points worst symmetry worst fractal dimension  \n",
              "0               0.2654         0.4601                 0.11890  \n",
              "1               0.1860         0.2750                 0.08902  \n",
              "2               0.2430         0.3613                 0.08758  \n",
              "3               0.2575         0.6638                 0.17300  \n",
              "4               0.1625         0.2364                 0.07678  \n",
              "\n",
              "[5 rows x 30 columns]"
            ],
            "text/html": [
              "\n",
              "  <div id=\"df-66cffa94-f152-4772-b4d4-263c10f26c8b\" class=\"colab-df-container\">\n",
              "    <div>\n",
              "<style scoped>\n",
              "    .dataframe tbody tr th:only-of-type {\n",
              "        vertical-align: middle;\n",
              "    }\n",
              "\n",
              "    .dataframe tbody tr th {\n",
              "        vertical-align: top;\n",
              "    }\n",
              "\n",
              "    .dataframe thead tr th {\n",
              "        text-align: left;\n",
              "    }\n",
              "</style>\n",
              "<table border=\"1\" class=\"dataframe\">\n",
              "  <thead>\n",
              "    <tr>\n",
              "      <th></th>\n",
              "      <th>mean radius</th>\n",
              "      <th>mean texture</th>\n",
              "      <th>mean perimeter</th>\n",
              "      <th>mean area</th>\n",
              "      <th>mean smoothness</th>\n",
              "      <th>mean compactness</th>\n",
              "      <th>mean concavity</th>\n",
              "      <th>mean concave points</th>\n",
              "      <th>mean symmetry</th>\n",
              "      <th>mean fractal dimension</th>\n",
              "      <th>...</th>\n",
              "      <th>worst radius</th>\n",
              "      <th>worst texture</th>\n",
              "      <th>worst perimeter</th>\n",
              "      <th>worst area</th>\n",
              "      <th>worst smoothness</th>\n",
              "      <th>worst compactness</th>\n",
              "      <th>worst concavity</th>\n",
              "      <th>worst concave points</th>\n",
              "      <th>worst symmetry</th>\n",
              "      <th>worst fractal dimension</th>\n",
              "    </tr>\n",
              "  </thead>\n",
              "  <tbody>\n",
              "    <tr>\n",
              "      <th>0</th>\n",
              "      <td>17.99</td>\n",
              "      <td>10.38</td>\n",
              "      <td>122.80</td>\n",
              "      <td>1001.0</td>\n",
              "      <td>0.11840</td>\n",
              "      <td>0.27760</td>\n",
              "      <td>0.3001</td>\n",
              "      <td>0.14710</td>\n",
              "      <td>0.2419</td>\n",
              "      <td>0.07871</td>\n",
              "      <td>...</td>\n",
              "      <td>25.38</td>\n",
              "      <td>17.33</td>\n",
              "      <td>184.60</td>\n",
              "      <td>2019.0</td>\n",
              "      <td>0.1622</td>\n",
              "      <td>0.6656</td>\n",
              "      <td>0.7119</td>\n",
              "      <td>0.2654</td>\n",
              "      <td>0.4601</td>\n",
              "      <td>0.11890</td>\n",
              "    </tr>\n",
              "    <tr>\n",
              "      <th>1</th>\n",
              "      <td>20.57</td>\n",
              "      <td>17.77</td>\n",
              "      <td>132.90</td>\n",
              "      <td>1326.0</td>\n",
              "      <td>0.08474</td>\n",
              "      <td>0.07864</td>\n",
              "      <td>0.0869</td>\n",
              "      <td>0.07017</td>\n",
              "      <td>0.1812</td>\n",
              "      <td>0.05667</td>\n",
              "      <td>...</td>\n",
              "      <td>24.99</td>\n",
              "      <td>23.41</td>\n",
              "      <td>158.80</td>\n",
              "      <td>1956.0</td>\n",
              "      <td>0.1238</td>\n",
              "      <td>0.1866</td>\n",
              "      <td>0.2416</td>\n",
              "      <td>0.1860</td>\n",
              "      <td>0.2750</td>\n",
              "      <td>0.08902</td>\n",
              "    </tr>\n",
              "    <tr>\n",
              "      <th>2</th>\n",
              "      <td>19.69</td>\n",
              "      <td>21.25</td>\n",
              "      <td>130.00</td>\n",
              "      <td>1203.0</td>\n",
              "      <td>0.10960</td>\n",
              "      <td>0.15990</td>\n",
              "      <td>0.1974</td>\n",
              "      <td>0.12790</td>\n",
              "      <td>0.2069</td>\n",
              "      <td>0.05999</td>\n",
              "      <td>...</td>\n",
              "      <td>23.57</td>\n",
              "      <td>25.53</td>\n",
              "      <td>152.50</td>\n",
              "      <td>1709.0</td>\n",
              "      <td>0.1444</td>\n",
              "      <td>0.4245</td>\n",
              "      <td>0.4504</td>\n",
              "      <td>0.2430</td>\n",
              "      <td>0.3613</td>\n",
              "      <td>0.08758</td>\n",
              "    </tr>\n",
              "    <tr>\n",
              "      <th>3</th>\n",
              "      <td>11.42</td>\n",
              "      <td>20.38</td>\n",
              "      <td>77.58</td>\n",
              "      <td>386.1</td>\n",
              "      <td>0.14250</td>\n",
              "      <td>0.28390</td>\n",
              "      <td>0.2414</td>\n",
              "      <td>0.10520</td>\n",
              "      <td>0.2597</td>\n",
              "      <td>0.09744</td>\n",
              "      <td>...</td>\n",
              "      <td>14.91</td>\n",
              "      <td>26.50</td>\n",
              "      <td>98.87</td>\n",
              "      <td>567.7</td>\n",
              "      <td>0.2098</td>\n",
              "      <td>0.8663</td>\n",
              "      <td>0.6869</td>\n",
              "      <td>0.2575</td>\n",
              "      <td>0.6638</td>\n",
              "      <td>0.17300</td>\n",
              "    </tr>\n",
              "    <tr>\n",
              "      <th>4</th>\n",
              "      <td>20.29</td>\n",
              "      <td>14.34</td>\n",
              "      <td>135.10</td>\n",
              "      <td>1297.0</td>\n",
              "      <td>0.10030</td>\n",
              "      <td>0.13280</td>\n",
              "      <td>0.1980</td>\n",
              "      <td>0.10430</td>\n",
              "      <td>0.1809</td>\n",
              "      <td>0.05883</td>\n",
              "      <td>...</td>\n",
              "      <td>22.54</td>\n",
              "      <td>16.67</td>\n",
              "      <td>152.20</td>\n",
              "      <td>1575.0</td>\n",
              "      <td>0.1374</td>\n",
              "      <td>0.2050</td>\n",
              "      <td>0.4000</td>\n",
              "      <td>0.1625</td>\n",
              "      <td>0.2364</td>\n",
              "      <td>0.07678</td>\n",
              "    </tr>\n",
              "  </tbody>\n",
              "</table>\n",
              "<p>5 rows × 30 columns</p>\n",
              "</div>\n",
              "    <div class=\"colab-df-buttons\">\n",
              "\n",
              "  <div class=\"colab-df-container\">\n",
              "    <button class=\"colab-df-convert\" onclick=\"convertToInteractive('df-66cffa94-f152-4772-b4d4-263c10f26c8b')\"\n",
              "            title=\"Convert this dataframe to an interactive table.\"\n",
              "            style=\"display:none;\">\n",
              "\n",
              "  <svg xmlns=\"http://www.w3.org/2000/svg\" height=\"24px\" viewBox=\"0 -960 960 960\">\n",
              "    <path d=\"M120-120v-720h720v720H120Zm60-500h600v-160H180v160Zm220 220h160v-160H400v160Zm0 220h160v-160H400v160ZM180-400h160v-160H180v160Zm440 0h160v-160H620v160ZM180-180h160v-160H180v160Zm440 0h160v-160H620v160Z\"/>\n",
              "  </svg>\n",
              "    </button>\n",
              "\n",
              "  <style>\n",
              "    .colab-df-container {\n",
              "      display:flex;\n",
              "      gap: 12px;\n",
              "    }\n",
              "\n",
              "    .colab-df-convert {\n",
              "      background-color: #E8F0FE;\n",
              "      border: none;\n",
              "      border-radius: 50%;\n",
              "      cursor: pointer;\n",
              "      display: none;\n",
              "      fill: #1967D2;\n",
              "      height: 32px;\n",
              "      padding: 0 0 0 0;\n",
              "      width: 32px;\n",
              "    }\n",
              "\n",
              "    .colab-df-convert:hover {\n",
              "      background-color: #E2EBFA;\n",
              "      box-shadow: 0px 1px 2px rgba(60, 64, 67, 0.3), 0px 1px 3px 1px rgba(60, 64, 67, 0.15);\n",
              "      fill: #174EA6;\n",
              "    }\n",
              "\n",
              "    .colab-df-buttons div {\n",
              "      margin-bottom: 4px;\n",
              "    }\n",
              "\n",
              "    [theme=dark] .colab-df-convert {\n",
              "      background-color: #3B4455;\n",
              "      fill: #D2E3FC;\n",
              "    }\n",
              "\n",
              "    [theme=dark] .colab-df-convert:hover {\n",
              "      background-color: #434B5C;\n",
              "      box-shadow: 0px 1px 3px 1px rgba(0, 0, 0, 0.15);\n",
              "      filter: drop-shadow(0px 1px 2px rgba(0, 0, 0, 0.3));\n",
              "      fill: #FFFFFF;\n",
              "    }\n",
              "  </style>\n",
              "\n",
              "    <script>\n",
              "      const buttonEl =\n",
              "        document.querySelector('#df-66cffa94-f152-4772-b4d4-263c10f26c8b button.colab-df-convert');\n",
              "      buttonEl.style.display =\n",
              "        google.colab.kernel.accessAllowed ? 'block' : 'none';\n",
              "\n",
              "      async function convertToInteractive(key) {\n",
              "        const element = document.querySelector('#df-66cffa94-f152-4772-b4d4-263c10f26c8b');\n",
              "        const dataTable =\n",
              "          await google.colab.kernel.invokeFunction('convertToInteractive',\n",
              "                                                    [key], {});\n",
              "        if (!dataTable) return;\n",
              "\n",
              "        const docLinkHtml = 'Like what you see? Visit the ' +\n",
              "          '<a target=\"_blank\" href=https://colab.research.google.com/notebooks/data_table.ipynb>data table notebook</a>'\n",
              "          + ' to learn more about interactive tables.';\n",
              "        element.innerHTML = '';\n",
              "        dataTable['output_type'] = 'display_data';\n",
              "        await google.colab.output.renderOutput(dataTable, element);\n",
              "        const docLink = document.createElement('div');\n",
              "        docLink.innerHTML = docLinkHtml;\n",
              "        element.appendChild(docLink);\n",
              "      }\n",
              "    </script>\n",
              "  </div>\n",
              "\n",
              "\n",
              "<div id=\"df-304fa57c-f5c8-463f-a3f4-f3ce234bd222\">\n",
              "  <button class=\"colab-df-quickchart\" onclick=\"quickchart('df-304fa57c-f5c8-463f-a3f4-f3ce234bd222')\"\n",
              "            title=\"Suggest charts.\"\n",
              "            style=\"display:none;\">\n",
              "\n",
              "<svg xmlns=\"http://www.w3.org/2000/svg\" height=\"24px\"viewBox=\"0 0 24 24\"\n",
              "     width=\"24px\">\n",
              "    <g>\n",
              "        <path d=\"M19 3H5c-1.1 0-2 .9-2 2v14c0 1.1.9 2 2 2h14c1.1 0 2-.9 2-2V5c0-1.1-.9-2-2-2zM9 17H7v-7h2v7zm4 0h-2V7h2v10zm4 0h-2v-4h2v4z\"/>\n",
              "    </g>\n",
              "</svg>\n",
              "  </button>\n",
              "\n",
              "<style>\n",
              "  .colab-df-quickchart {\n",
              "      --bg-color: #E8F0FE;\n",
              "      --fill-color: #1967D2;\n",
              "      --hover-bg-color: #E2EBFA;\n",
              "      --hover-fill-color: #174EA6;\n",
              "      --disabled-fill-color: #AAA;\n",
              "      --disabled-bg-color: #DDD;\n",
              "  }\n",
              "\n",
              "  [theme=dark] .colab-df-quickchart {\n",
              "      --bg-color: #3B4455;\n",
              "      --fill-color: #D2E3FC;\n",
              "      --hover-bg-color: #434B5C;\n",
              "      --hover-fill-color: #FFFFFF;\n",
              "      --disabled-bg-color: #3B4455;\n",
              "      --disabled-fill-color: #666;\n",
              "  }\n",
              "\n",
              "  .colab-df-quickchart {\n",
              "    background-color: var(--bg-color);\n",
              "    border: none;\n",
              "    border-radius: 50%;\n",
              "    cursor: pointer;\n",
              "    display: none;\n",
              "    fill: var(--fill-color);\n",
              "    height: 32px;\n",
              "    padding: 0;\n",
              "    width: 32px;\n",
              "  }\n",
              "\n",
              "  .colab-df-quickchart:hover {\n",
              "    background-color: var(--hover-bg-color);\n",
              "    box-shadow: 0 1px 2px rgba(60, 64, 67, 0.3), 0 1px 3px 1px rgba(60, 64, 67, 0.15);\n",
              "    fill: var(--button-hover-fill-color);\n",
              "  }\n",
              "\n",
              "  .colab-df-quickchart-complete:disabled,\n",
              "  .colab-df-quickchart-complete:disabled:hover {\n",
              "    background-color: var(--disabled-bg-color);\n",
              "    fill: var(--disabled-fill-color);\n",
              "    box-shadow: none;\n",
              "  }\n",
              "\n",
              "  .colab-df-spinner {\n",
              "    border: 2px solid var(--fill-color);\n",
              "    border-color: transparent;\n",
              "    border-bottom-color: var(--fill-color);\n",
              "    animation:\n",
              "      spin 1s steps(1) infinite;\n",
              "  }\n",
              "\n",
              "  @keyframes spin {\n",
              "    0% {\n",
              "      border-color: transparent;\n",
              "      border-bottom-color: var(--fill-color);\n",
              "      border-left-color: var(--fill-color);\n",
              "    }\n",
              "    20% {\n",
              "      border-color: transparent;\n",
              "      border-left-color: var(--fill-color);\n",
              "      border-top-color: var(--fill-color);\n",
              "    }\n",
              "    30% {\n",
              "      border-color: transparent;\n",
              "      border-left-color: var(--fill-color);\n",
              "      border-top-color: var(--fill-color);\n",
              "      border-right-color: var(--fill-color);\n",
              "    }\n",
              "    40% {\n",
              "      border-color: transparent;\n",
              "      border-right-color: var(--fill-color);\n",
              "      border-top-color: var(--fill-color);\n",
              "    }\n",
              "    60% {\n",
              "      border-color: transparent;\n",
              "      border-right-color: var(--fill-color);\n",
              "    }\n",
              "    80% {\n",
              "      border-color: transparent;\n",
              "      border-right-color: var(--fill-color);\n",
              "      border-bottom-color: var(--fill-color);\n",
              "    }\n",
              "    90% {\n",
              "      border-color: transparent;\n",
              "      border-bottom-color: var(--fill-color);\n",
              "    }\n",
              "  }\n",
              "</style>\n",
              "\n",
              "  <script>\n",
              "    async function quickchart(key) {\n",
              "      const quickchartButtonEl =\n",
              "        document.querySelector('#' + key + ' button');\n",
              "      quickchartButtonEl.disabled = true;  // To prevent multiple clicks.\n",
              "      quickchartButtonEl.classList.add('colab-df-spinner');\n",
              "      try {\n",
              "        const charts = await google.colab.kernel.invokeFunction(\n",
              "            'suggestCharts', [key], {});\n",
              "      } catch (error) {\n",
              "        console.error('Error during call to suggestCharts:', error);\n",
              "      }\n",
              "      quickchartButtonEl.classList.remove('colab-df-spinner');\n",
              "      quickchartButtonEl.classList.add('colab-df-quickchart-complete');\n",
              "    }\n",
              "    (() => {\n",
              "      let quickchartButtonEl =\n",
              "        document.querySelector('#df-304fa57c-f5c8-463f-a3f4-f3ce234bd222 button');\n",
              "      quickchartButtonEl.style.display =\n",
              "        google.colab.kernel.accessAllowed ? 'block' : 'none';\n",
              "    })();\n",
              "  </script>\n",
              "</div>\n",
              "    </div>\n",
              "  </div>\n"
            ]
          },
          "metadata": {},
          "execution_count": 31
        }
      ]
    },
    {
      "cell_type": "code",
      "source": [
        "y.value_counts()"
      ],
      "metadata": {
        "colab": {
          "base_uri": "https://localhost:8080/"
        },
        "id": "gP5XxHLmsR_r",
        "outputId": "69a40086-5261-458b-dca8-e753750d753c"
      },
      "execution_count": null,
      "outputs": [
        {
          "output_type": "execute_result",
          "data": {
            "text/plain": [
              "1    357\n",
              "0    212\n",
              "dtype: int64"
            ]
          },
          "metadata": {},
          "execution_count": 9
        }
      ]
    },
    {
      "cell_type": "code",
      "source": [
        "dados.target_names"
      ],
      "metadata": {
        "colab": {
          "base_uri": "https://localhost:8080/"
        },
        "id": "Gp9AKFEyt-N3",
        "outputId": "f1eee71a-27f4-418a-adfe-3ef7c71df2cb"
      },
      "execution_count": null,
      "outputs": [
        {
          "output_type": "execute_result",
          "data": {
            "text/plain": [
              "array(['malignant', 'benign'], dtype='<U9')"
            ]
          },
          "metadata": {},
          "execution_count": 10
        }
      ]
    },
    {
      "cell_type": "code",
      "source": [
        "x_treino,x_teste,y_treino,y_teste= train_test_split(x,y,test_size=0.3)"
      ],
      "metadata": {
        "id": "6HP-sqaguAcH"
      },
      "execution_count": null,
      "outputs": []
    },
    {
      "cell_type": "code",
      "source": [
        "modelo=LogisticRegression(C=95,penalty='l1',solver='liblinear')"
      ],
      "metadata": {
        "id": "WQaGDnoVukTa"
      },
      "execution_count": null,
      "outputs": []
    },
    {
      "cell_type": "code",
      "source": [
        "modelo.fit(x_treino,y_treino)"
      ],
      "metadata": {
        "colab": {
          "base_uri": "https://localhost:8080/",
          "height": 75
        },
        "id": "AvxdUL73uzqY",
        "outputId": "cb6c4b3c-716e-4c3e-95ff-7c055d3f30cb"
      },
      "execution_count": null,
      "outputs": [
        {
          "output_type": "execute_result",
          "data": {
            "text/plain": [
              "LogisticRegression(C=95, penalty='l1', solver='liblinear')"
            ],
            "text/html": [
              "<style>#sk-container-id-1 {color: black;background-color: white;}#sk-container-id-1 pre{padding: 0;}#sk-container-id-1 div.sk-toggleable {background-color: white;}#sk-container-id-1 label.sk-toggleable__label {cursor: pointer;display: block;width: 100%;margin-bottom: 0;padding: 0.3em;box-sizing: border-box;text-align: center;}#sk-container-id-1 label.sk-toggleable__label-arrow:before {content: \"▸\";float: left;margin-right: 0.25em;color: #696969;}#sk-container-id-1 label.sk-toggleable__label-arrow:hover:before {color: black;}#sk-container-id-1 div.sk-estimator:hover label.sk-toggleable__label-arrow:before {color: black;}#sk-container-id-1 div.sk-toggleable__content {max-height: 0;max-width: 0;overflow: hidden;text-align: left;background-color: #f0f8ff;}#sk-container-id-1 div.sk-toggleable__content pre {margin: 0.2em;color: black;border-radius: 0.25em;background-color: #f0f8ff;}#sk-container-id-1 input.sk-toggleable__control:checked~div.sk-toggleable__content {max-height: 200px;max-width: 100%;overflow: auto;}#sk-container-id-1 input.sk-toggleable__control:checked~label.sk-toggleable__label-arrow:before {content: \"▾\";}#sk-container-id-1 div.sk-estimator input.sk-toggleable__control:checked~label.sk-toggleable__label {background-color: #d4ebff;}#sk-container-id-1 div.sk-label input.sk-toggleable__control:checked~label.sk-toggleable__label {background-color: #d4ebff;}#sk-container-id-1 input.sk-hidden--visually {border: 0;clip: rect(1px 1px 1px 1px);clip: rect(1px, 1px, 1px, 1px);height: 1px;margin: -1px;overflow: hidden;padding: 0;position: absolute;width: 1px;}#sk-container-id-1 div.sk-estimator {font-family: monospace;background-color: #f0f8ff;border: 1px dotted black;border-radius: 0.25em;box-sizing: border-box;margin-bottom: 0.5em;}#sk-container-id-1 div.sk-estimator:hover {background-color: #d4ebff;}#sk-container-id-1 div.sk-parallel-item::after {content: \"\";width: 100%;border-bottom: 1px solid gray;flex-grow: 1;}#sk-container-id-1 div.sk-label:hover label.sk-toggleable__label {background-color: #d4ebff;}#sk-container-id-1 div.sk-serial::before {content: \"\";position: absolute;border-left: 1px solid gray;box-sizing: border-box;top: 0;bottom: 0;left: 50%;z-index: 0;}#sk-container-id-1 div.sk-serial {display: flex;flex-direction: column;align-items: center;background-color: white;padding-right: 0.2em;padding-left: 0.2em;position: relative;}#sk-container-id-1 div.sk-item {position: relative;z-index: 1;}#sk-container-id-1 div.sk-parallel {display: flex;align-items: stretch;justify-content: center;background-color: white;position: relative;}#sk-container-id-1 div.sk-item::before, #sk-container-id-1 div.sk-parallel-item::before {content: \"\";position: absolute;border-left: 1px solid gray;box-sizing: border-box;top: 0;bottom: 0;left: 50%;z-index: -1;}#sk-container-id-1 div.sk-parallel-item {display: flex;flex-direction: column;z-index: 1;position: relative;background-color: white;}#sk-container-id-1 div.sk-parallel-item:first-child::after {align-self: flex-end;width: 50%;}#sk-container-id-1 div.sk-parallel-item:last-child::after {align-self: flex-start;width: 50%;}#sk-container-id-1 div.sk-parallel-item:only-child::after {width: 0;}#sk-container-id-1 div.sk-dashed-wrapped {border: 1px dashed gray;margin: 0 0.4em 0.5em 0.4em;box-sizing: border-box;padding-bottom: 0.4em;background-color: white;}#sk-container-id-1 div.sk-label label {font-family: monospace;font-weight: bold;display: inline-block;line-height: 1.2em;}#sk-container-id-1 div.sk-label-container {text-align: center;}#sk-container-id-1 div.sk-container {/* jupyter's `normalize.less` sets `[hidden] { display: none; }` but bootstrap.min.css set `[hidden] { display: none !important; }` so we also need the `!important` here to be able to override the default hidden behavior on the sphinx rendered scikit-learn.org. See: https://github.com/scikit-learn/scikit-learn/issues/21755 */display: inline-block !important;position: relative;}#sk-container-id-1 div.sk-text-repr-fallback {display: none;}</style><div id=\"sk-container-id-1\" class=\"sk-top-container\"><div class=\"sk-text-repr-fallback\"><pre>LogisticRegression(C=95, penalty=&#x27;l1&#x27;, solver=&#x27;liblinear&#x27;)</pre><b>In a Jupyter environment, please rerun this cell to show the HTML representation or trust the notebook. <br />On GitHub, the HTML representation is unable to render, please try loading this page with nbviewer.org.</b></div><div class=\"sk-container\" hidden><div class=\"sk-item\"><div class=\"sk-estimator sk-toggleable\"><input class=\"sk-toggleable__control sk-hidden--visually\" id=\"sk-estimator-id-1\" type=\"checkbox\" checked><label for=\"sk-estimator-id-1\" class=\"sk-toggleable__label sk-toggleable__label-arrow\">LogisticRegression</label><div class=\"sk-toggleable__content\"><pre>LogisticRegression(C=95, penalty=&#x27;l1&#x27;, solver=&#x27;liblinear&#x27;)</pre></div></div></div></div></div>"
            ]
          },
          "metadata": {},
          "execution_count": 13
        }
      ]
    },
    {
      "cell_type": "code",
      "source": [
        "acuracia=modelo.score(x_teste,y_teste)"
      ],
      "metadata": {
        "id": "G9SF7S0nu9qf"
      },
      "execution_count": null,
      "outputs": []
    },
    {
      "cell_type": "code",
      "source": [
        "acuracia"
      ],
      "metadata": {
        "colab": {
          "base_uri": "https://localhost:8080/"
        },
        "id": "Lu1SqpoJvIkk",
        "outputId": "c36d327c-4864-4947-fc08-2d71ad1d27ae"
      },
      "execution_count": null,
      "outputs": [
        {
          "output_type": "execute_result",
          "data": {
            "text/plain": [
              "0.9649122807017544"
            ]
          },
          "metadata": {},
          "execution_count": 16
        }
      ]
    },
    {
      "cell_type": "code",
      "source": [
        "predicao=modelo.predict(x_teste)"
      ],
      "metadata": {
        "id": "Lekb_DCLvVRF"
      },
      "execution_count": null,
      "outputs": []
    },
    {
      "cell_type": "code",
      "source": [
        "predicao[1:10]"
      ],
      "metadata": {
        "colab": {
          "base_uri": "https://localhost:8080/"
        },
        "id": "8IsOvu94vc7o",
        "outputId": "e17eaac3-e611-4b2e-8551-ec079c92fa17"
      },
      "execution_count": null,
      "outputs": [
        {
          "output_type": "execute_result",
          "data": {
            "text/plain": [
              "array([1, 1, 1, 0, 1, 0, 1, 1, 0])"
            ]
          },
          "metadata": {},
          "execution_count": 19
        }
      ]
    },
    {
      "cell_type": "code",
      "source": [
        "y_teste[1:10]"
      ],
      "metadata": {
        "colab": {
          "base_uri": "https://localhost:8080/"
        },
        "id": "EW0Aq5-6vjlv",
        "outputId": "02addf7c-17ad-4c43-c165-d8c684686430"
      },
      "execution_count": null,
      "outputs": [
        {
          "output_type": "execute_result",
          "data": {
            "text/plain": [
              "173    1\n",
              "286    1\n",
              "204    1\n",
              "389    0\n",
              "241    1\n",
              "15     0\n",
              "350    1\n",
              "249    1\n",
              "121    0\n",
              "dtype: int64"
            ]
          },
          "metadata": {},
          "execution_count": 20
        }
      ]
    },
    {
      "cell_type": "code",
      "source": [
        "from sklearn.metrics import confusion_matrix\n",
        "matriz=confusion_matrix(y_teste,predicao)"
      ],
      "metadata": {
        "id": "juE49V9Zv5j8"
      },
      "execution_count": null,
      "outputs": []
    },
    {
      "cell_type": "code",
      "source": [
        "matriz"
      ],
      "metadata": {
        "colab": {
          "base_uri": "https://localhost:8080/"
        },
        "id": "-gnTwfPgwfm6",
        "outputId": "7bde4c3f-254e-47a5-e245-b1efaea5dc54"
      },
      "execution_count": null,
      "outputs": [
        {
          "output_type": "execute_result",
          "data": {
            "text/plain": [
              "array([[ 64,   4],\n",
              "       [  2, 101]])"
            ]
          },
          "metadata": {},
          "execution_count": 22
        }
      ]
    },
    {
      "cell_type": "code",
      "source": [
        "prob=modelo.predict_proba(x_teste)"
      ],
      "metadata": {
        "id": "P1U6jKFswh8G"
      },
      "execution_count": null,
      "outputs": []
    },
    {
      "cell_type": "code",
      "source": [
        "prob"
      ],
      "metadata": {
        "colab": {
          "base_uri": "https://localhost:8080/"
        },
        "id": "U9Om6cf8xLdc",
        "outputId": "5a391a3c-046e-467b-9508-6493695088de"
      },
      "execution_count": null,
      "outputs": [
        {
          "output_type": "execute_result",
          "data": {
            "text/plain": [
              "array([[3.10594172e-06, 9.99996894e-01],\n",
              "       [3.51726426e-10, 1.00000000e+00],\n",
              "       [2.25995157e-04, 9.99774005e-01],\n",
              "       [3.78754115e-01, 6.21245885e-01],\n",
              "       [9.99998586e-01, 1.41425589e-06],\n",
              "       [6.91334882e-08, 9.99999931e-01],\n",
              "       [9.99999992e-01, 7.51345341e-09],\n",
              "       [3.09301995e-05, 9.99969070e-01],\n",
              "       [1.40372220e-05, 9.99985963e-01],\n",
              "       [1.00000000e+00, 1.61452811e-11],\n",
              "       [3.56549126e-05, 9.99964345e-01],\n",
              "       [3.35460829e-03, 9.96645392e-01],\n",
              "       [1.00000000e+00, 1.01785980e-24],\n",
              "       [1.29378521e-07, 9.99999871e-01],\n",
              "       [4.21033008e-04, 9.99578967e-01],\n",
              "       [1.00000000e+00, 2.87442200e-20],\n",
              "       [1.00000000e+00, 3.06748558e-14],\n",
              "       [4.01302689e-01, 5.98697311e-01],\n",
              "       [4.02822975e-09, 9.99999996e-01],\n",
              "       [6.65876255e-07, 9.99999334e-01],\n",
              "       [1.00000000e+00, 6.25363802e-39],\n",
              "       [2.01628747e-08, 9.99999980e-01],\n",
              "       [8.98215895e-01, 1.01784105e-01],\n",
              "       [1.28376315e-01, 8.71623685e-01],\n",
              "       [2.02034216e-03, 9.97979658e-01],\n",
              "       [2.57160221e-02, 9.74283978e-01],\n",
              "       [1.42678421e-04, 9.99857322e-01],\n",
              "       [9.99992176e-01, 7.82358772e-06],\n",
              "       [1.00000000e+00, 1.39233743e-16],\n",
              "       [9.98125707e-08, 9.99999900e-01],\n",
              "       [3.34045521e-05, 9.99966595e-01],\n",
              "       [1.16853219e-03, 9.98831468e-01],\n",
              "       [3.44645024e-09, 9.99999997e-01],\n",
              "       [1.03399297e-04, 9.99896601e-01],\n",
              "       [9.99999989e-01, 1.07538324e-08],\n",
              "       [4.76395213e-06, 9.99995236e-01],\n",
              "       [8.13196366e-09, 9.99999992e-01],\n",
              "       [1.00000000e+00, 8.33567450e-11],\n",
              "       [2.96089750e-04, 9.99703910e-01],\n",
              "       [9.96403464e-01, 3.59653587e-03],\n",
              "       [9.99983854e-01, 1.61460665e-05],\n",
              "       [9.99997754e-01, 2.24607513e-06],\n",
              "       [3.27806636e-01, 6.72193364e-01],\n",
              "       [1.99070982e-10, 1.00000000e+00],\n",
              "       [7.36577487e-03, 9.92634225e-01],\n",
              "       [3.95039650e-08, 9.99999960e-01],\n",
              "       [1.11170252e-08, 9.99999989e-01],\n",
              "       [1.00000000e+00, 6.94313358e-18],\n",
              "       [2.44525912e-04, 9.99755474e-01],\n",
              "       [1.14966140e-02, 9.88503386e-01],\n",
              "       [1.43412191e-06, 9.99998566e-01],\n",
              "       [1.00000000e+00, 3.16635440e-15],\n",
              "       [5.90858054e-06, 9.99994091e-01],\n",
              "       [1.00000000e+00, 2.10138000e-16],\n",
              "       [1.00000000e+00, 8.51093329e-17],\n",
              "       [6.32711737e-03, 9.93672883e-01],\n",
              "       [9.99999914e-01, 8.63519567e-08],\n",
              "       [1.74048867e-01, 8.25951133e-01],\n",
              "       [9.94798832e-01, 5.20116808e-03],\n",
              "       [1.00000000e+00, 7.30078486e-29],\n",
              "       [9.99999891e-01, 1.08530346e-07],\n",
              "       [1.94528685e-08, 9.99999981e-01],\n",
              "       [9.99999998e-01, 2.27884822e-09],\n",
              "       [6.27522939e-04, 9.99372477e-01],\n",
              "       [1.15153563e-05, 9.99988485e-01],\n",
              "       [1.00000000e+00, 4.70627705e-19],\n",
              "       [1.00000000e+00, 2.98989058e-37],\n",
              "       [1.00000000e+00, 4.60155984e-12],\n",
              "       [1.08976113e-07, 9.99999891e-01],\n",
              "       [5.37835950e-07, 9.99999462e-01],\n",
              "       [9.99999148e-01, 8.51542937e-07],\n",
              "       [8.94669687e-08, 9.99999911e-01],\n",
              "       [9.99917031e-01, 8.29686656e-05],\n",
              "       [2.93180013e-05, 9.99970682e-01],\n",
              "       [1.33734309e-06, 9.99998663e-01],\n",
              "       [9.99999981e-01, 1.94565490e-08],\n",
              "       [1.27087673e-07, 9.99999873e-01],\n",
              "       [7.20734898e-04, 9.99279265e-01],\n",
              "       [5.17955012e-04, 9.99482045e-01],\n",
              "       [4.90231344e-09, 9.99999995e-01],\n",
              "       [4.73089283e-05, 9.99952691e-01],\n",
              "       [2.53151784e-02, 9.74684822e-01],\n",
              "       [1.47333503e-06, 9.99998527e-01],\n",
              "       [1.06243246e-04, 9.99893757e-01],\n",
              "       [9.99997588e-01, 2.41154002e-06],\n",
              "       [2.18348526e-03, 9.97816515e-01],\n",
              "       [1.10971235e-01, 8.89028765e-01],\n",
              "       [9.99999837e-01, 1.62778501e-07],\n",
              "       [9.99999994e-01, 6.02415724e-09],\n",
              "       [1.64856661e-04, 9.99835143e-01],\n",
              "       [1.00000000e+00, 9.02953890e-21],\n",
              "       [3.93262630e-05, 9.99960674e-01],\n",
              "       [1.32589899e-06, 9.99998674e-01],\n",
              "       [1.55389113e-02, 9.84461089e-01],\n",
              "       [6.25795794e-05, 9.99937420e-01],\n",
              "       [1.52460674e-01, 8.47539326e-01],\n",
              "       [1.65113737e-06, 9.99998349e-01],\n",
              "       [7.99513699e-01, 2.00486301e-01],\n",
              "       [1.00000000e+00, 7.81609303e-14],\n",
              "       [1.00000000e+00, 1.15944761e-10],\n",
              "       [1.02429887e-05, 9.99989757e-01],\n",
              "       [1.00000000e+00, 1.45036511e-17],\n",
              "       [9.99999523e-01, 4.76663406e-07],\n",
              "       [1.00000000e+00, 1.01691435e-35],\n",
              "       [3.69617870e-04, 9.99630382e-01],\n",
              "       [6.66886207e-02, 9.33311379e-01],\n",
              "       [9.42235345e-09, 9.99999991e-01],\n",
              "       [1.17140414e-02, 9.88285959e-01],\n",
              "       [2.77468993e-03, 9.97225310e-01],\n",
              "       [9.86221874e-01, 1.37781261e-02],\n",
              "       [1.00000000e+00, 1.07615637e-28],\n",
              "       [6.23468239e-07, 9.99999377e-01],\n",
              "       [1.66151181e-04, 9.99833849e-01],\n",
              "       [9.99850682e-01, 1.49317503e-04],\n",
              "       [2.75703573e-03, 9.97242964e-01],\n",
              "       [1.00000000e+00, 9.94316969e-24],\n",
              "       [9.99999993e-01, 6.50787625e-09],\n",
              "       [1.25466959e-06, 9.99998745e-01],\n",
              "       [1.55544019e-05, 9.99984446e-01],\n",
              "       [9.99999998e-01, 1.87131262e-09],\n",
              "       [9.61499977e-07, 9.99999039e-01],\n",
              "       [1.00000000e+00, 1.29838584e-20],\n",
              "       [1.00000000e+00, 1.23415738e-46],\n",
              "       [9.99998565e-01, 1.43491380e-06],\n",
              "       [6.41610524e-02, 9.35838948e-01],\n",
              "       [3.37137931e-02, 9.66286207e-01],\n",
              "       [1.00000000e+00, 6.28548361e-29],\n",
              "       [7.00535034e-01, 2.99464966e-01],\n",
              "       [1.00000000e+00, 1.68808774e-11],\n",
              "       [3.27777798e-05, 9.99967222e-01],\n",
              "       [1.00000000e+00, 8.44582577e-18],\n",
              "       [3.50138315e-05, 9.99964986e-01],\n",
              "       [1.00000000e+00, 2.57065143e-17],\n",
              "       [1.83271047e-04, 9.99816729e-01],\n",
              "       [1.69850832e-05, 9.99983015e-01],\n",
              "       [1.00000000e+00, 1.78709927e-20],\n",
              "       [9.87509383e-05, 9.99901249e-01],\n",
              "       [9.98144583e-01, 1.85541663e-03],\n",
              "       [1.00000000e+00, 7.37977350e-23],\n",
              "       [8.24359738e-07, 9.99999176e-01],\n",
              "       [6.21386523e-04, 9.99378613e-01],\n",
              "       [1.36457352e-04, 9.99863543e-01],\n",
              "       [2.91849380e-02, 9.70815062e-01],\n",
              "       [3.47132147e-02, 9.65286785e-01],\n",
              "       [6.89055689e-06, 9.99993109e-01],\n",
              "       [9.99999995e-01, 4.55897011e-09],\n",
              "       [3.56675557e-04, 9.99643324e-01],\n",
              "       [2.05691943e-03, 9.97943081e-01],\n",
              "       [1.78822532e-06, 9.99998212e-01],\n",
              "       [1.00000000e+00, 2.35634909e-16],\n",
              "       [1.00000000e+00, 1.81256376e-18],\n",
              "       [5.33926118e-02, 9.46607388e-01],\n",
              "       [1.40520354e-03, 9.98594796e-01],\n",
              "       [2.88020771e-06, 9.99997120e-01],\n",
              "       [1.00000000e+00, 6.25461723e-12],\n",
              "       [6.85460829e-07, 9.99999315e-01],\n",
              "       [2.62590756e-02, 9.73740924e-01],\n",
              "       [7.25604338e-06, 9.99992744e-01],\n",
              "       [8.96108815e-03, 9.91038912e-01],\n",
              "       [7.29791530e-01, 2.70208470e-01],\n",
              "       [8.93306601e-01, 1.06693399e-01],\n",
              "       [1.00000000e+00, 1.85263697e-35],\n",
              "       [5.19599744e-04, 9.99480400e-01],\n",
              "       [2.78182818e-02, 9.72181718e-01],\n",
              "       [1.00000000e+00, 3.52220443e-24],\n",
              "       [3.34623391e-08, 9.99999967e-01],\n",
              "       [9.99998523e-01, 1.47734449e-06],\n",
              "       [1.93810460e-03, 9.98061895e-01],\n",
              "       [5.68298336e-05, 9.99943170e-01],\n",
              "       [1.49459759e-02, 9.85054024e-01],\n",
              "       [1.20612657e-06, 9.99998794e-01]])"
            ]
          },
          "metadata": {},
          "execution_count": 24
        }
      ]
    },
    {
      "cell_type": "code",
      "source": [
        "from sklearn.metrics import roc_curve\n",
        "prob2=prob[:,1]\n",
        "FPR,TPR,th=roc_curve(y_teste,prob2)"
      ],
      "metadata": {
        "id": "wB6sNdm3xM08"
      },
      "execution_count": null,
      "outputs": []
    },
    {
      "cell_type": "code",
      "source": [
        "plt.scatter(FPR,TPR)\n",
        "from sklearn.metrics import roc_auc_score\n",
        "auc=roc_auc_score(y_teste,prob2)\n",
        "print(auc)"
      ],
      "metadata": {
        "colab": {
          "base_uri": "https://localhost:8080/",
          "height": 447
        },
        "id": "GZ5OabkhydCO",
        "outputId": "38971049-4251-4d5b-b6a7-fe3e6feb1c27"
      },
      "execution_count": null,
      "outputs": [
        {
          "output_type": "stream",
          "name": "stdout",
          "text": [
            "0.9934323243860651\n"
          ]
        },
        {
          "output_type": "display_data",
          "data": {
            "text/plain": [
              "<Figure size 640x480 with 1 Axes>"
            ],
            "image/png": "[encoded data removed]"
          },
          "metadata": {}
        }
      ]
    },
    {
      "cell_type": "code",
      "source": [],
      "metadata": {
        "id": "HF6MWKywyohO"
      },
      "execution_count": null,
      "outputs": []
    }
  ]
}